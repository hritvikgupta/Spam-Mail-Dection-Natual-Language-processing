{
  "nbformat": 4,
  "nbformat_minor": 0,
  "metadata": {
    "colab": {
      "name": "NLP-spam-ham email-prediction.ipynb",
      "provenance": []
    },
    "kernelspec": {
      "name": "python3",
      "display_name": "Python 3"
    },
    "accelerator": "GPU"
  },
  "cells": [
    {
      "cell_type": "markdown",
      "metadata": {
        "id": "8O-WUDUFzf97",
        "colab_type": "text"
      },
      "source": [
        "## Importing the libararies"
      ]
    },
    {
      "cell_type": "code",
      "metadata": {
        "id": "2tTT3ogqzokR",
        "colab_type": "code",
        "colab": {}
      },
      "source": [
        "import nltk\n",
        "import pandas as pd\n",
        "import re\n",
        "import string \n",
        "import time\n",
        "import seaborn as sns\n",
        "import numpy as np\n",
        "import matplotlib.pyplot as plt\n",
        "\n",
        "%matplotlib inline\n",
        "# initalizing the stemmer\n",
        "ps = nltk.PorterStemmer()\n",
        "\n",
        "## importng libraries for vectorizing our data\n",
        "from sklearn.feature_extraction.text import TfidfVectorizer,CountVectorizer\n",
        "\n",
        "## importing libraries for train and test split\n",
        "from sklearn.model_selection import train_test_split\n",
        "\n",
        "## importing the model\n",
        "from sklearn.ensemble import GradientBoostingClassifier\n",
        "from sklearn.ensemble import RandomForestClassifier\n",
        "from sklearn.neighbors import KNeighborsClassifier\n",
        "from sklearn.linear_model import LogisticRegression\n",
        "\n",
        "# importing for the model evaluation\n",
        "from sklearn.model_selection import GridSearchCV\n",
        "from sklearn.metrics import precision_recall_fscore_support as score\n",
        "from sklearn.metrics import confusion_matrix, classification_report\n",
        "from sklearn.metrics import plot_roc_curve"
      ],
      "execution_count": 0,
      "outputs": []
    },
    {
      "cell_type": "code",
      "metadata": {
        "id": "aPKqHxYm1nm8",
        "colab_type": "code",
        "colab": {
          "base_uri": "https://localhost:8080/",
          "height": 69
        },
        "outputId": "83aad16d-d1ef-4ec0-92a4-d430a642faa8"
      },
      "source": [
        "### Downloading the stopwords\n",
        "nltk.download('stopwords')\n",
        "stopwords = nltk.corpus.stopwords.words(\"english\")\n",
        "stopwords[:5]"
      ],
      "execution_count": 3,
      "outputs": [
        {
          "output_type": "stream",
          "text": [
            "[nltk_data] Downloading package stopwords to /root/nltk_data...\n",
            "[nltk_data]   Unzipping corpora/stopwords.zip.\n"
          ],
          "name": "stdout"
        },
        {
          "output_type": "execute_result",
          "data": {
            "text/plain": [
              "['i', 'me', 'my', 'myself', 'we']"
            ]
          },
          "metadata": {
            "tags": []
          },
          "execution_count": 3
        }
      ]
    },
    {
      "cell_type": "markdown",
      "metadata": {
        "id": "FyEIwiZ52iVa",
        "colab_type": "text"
      },
      "source": [
        "## Importing the dataset"
      ]
    },
    {
      "cell_type": "code",
      "metadata": {
        "id": "yqWP2GK927vc",
        "colab_type": "code",
        "colab": {
          "base_uri": "https://localhost:8080/",
          "height": 206
        },
        "outputId": "9924c99a-e861-4bad-9ef6-2bc1a8899dd4"
      },
      "source": [
        "## sep = '/t' to seperate the lines \n",
        "data = pd.read_csv(\"/content/drive/My Drive/linkdin-notebook/NLP/SMSSpamCollection.tsv\", sep = '\\t')\n",
        "data.columns = ['label','body_text']\n",
        "data.head()"
      ],
      "execution_count": 4,
      "outputs": [
        {
          "output_type": "execute_result",
          "data": {
            "text/html": [
              "<div>\n",
              "<style scoped>\n",
              "    .dataframe tbody tr th:only-of-type {\n",
              "        vertical-align: middle;\n",
              "    }\n",
              "\n",
              "    .dataframe tbody tr th {\n",
              "        vertical-align: top;\n",
              "    }\n",
              "\n",
              "    .dataframe thead th {\n",
              "        text-align: right;\n",
              "    }\n",
              "</style>\n",
              "<table border=\"1\" class=\"dataframe\">\n",
              "  <thead>\n",
              "    <tr style=\"text-align: right;\">\n",
              "      <th></th>\n",
              "      <th>label</th>\n",
              "      <th>body_text</th>\n",
              "    </tr>\n",
              "  </thead>\n",
              "  <tbody>\n",
              "    <tr>\n",
              "      <th>0</th>\n",
              "      <td>spam</td>\n",
              "      <td>Free entry in 2 a wkly comp to win FA Cup fina...</td>\n",
              "    </tr>\n",
              "    <tr>\n",
              "      <th>1</th>\n",
              "      <td>ham</td>\n",
              "      <td>Nah I don't think he goes to usf, he lives aro...</td>\n",
              "    </tr>\n",
              "    <tr>\n",
              "      <th>2</th>\n",
              "      <td>ham</td>\n",
              "      <td>Even my brother is not like to speak with me. ...</td>\n",
              "    </tr>\n",
              "    <tr>\n",
              "      <th>3</th>\n",
              "      <td>ham</td>\n",
              "      <td>I HAVE A DATE ON SUNDAY WITH WILL!!</td>\n",
              "    </tr>\n",
              "    <tr>\n",
              "      <th>4</th>\n",
              "      <td>ham</td>\n",
              "      <td>As per your request 'Melle Melle (Oru Minnamin...</td>\n",
              "    </tr>\n",
              "  </tbody>\n",
              "</table>\n",
              "</div>"
            ],
            "text/plain": [
              "  label                                          body_text\n",
              "0  spam  Free entry in 2 a wkly comp to win FA Cup fina...\n",
              "1   ham  Nah I don't think he goes to usf, he lives aro...\n",
              "2   ham  Even my brother is not like to speak with me. ...\n",
              "3   ham                I HAVE A DATE ON SUNDAY WITH WILL!!\n",
              "4   ham  As per your request 'Melle Melle (Oru Minnamin..."
            ]
          },
          "metadata": {
            "tags": []
          },
          "execution_count": 4
        }
      ]
    },
    {
      "cell_type": "markdown",
      "metadata": {
        "id": "esv15RXk3JfH",
        "colab_type": "text"
      },
      "source": [
        "## visualizing the data\n"
      ]
    },
    {
      "cell_type": "code",
      "metadata": {
        "id": "a0vmWL2F5Opi",
        "colab_type": "code",
        "colab": {
          "base_uri": "https://localhost:8080/",
          "height": 284
        },
        "outputId": "f5a2f9c5-a8c7-47a6-ad56-7960b749b769"
      },
      "source": [
        "data[\"label\"].value_counts().plot(kind = \"bar\", color = [\"salmon\", \"lightblue\"]);"
      ],
      "execution_count": 5,
      "outputs": [
        {
          "output_type": "display_data",
          "data": {
            "image/png": "[encoded data removed]",
            "text/plain": [
              "<Figure size 432x288 with 1 Axes>"
            ]
          },
          "metadata": {
            "tags": [],
            "needs_background": "light"
          }
        }
      ]
    },
    {
      "cell_type": "code",
      "metadata": {
        "id": "eDhnKnfE69lA",
        "colab_type": "code",
        "colab": {}
      },
      "source": [
        "## creating a feature body len for better visualization of spam and ham email messages\n",
        "data[\"body_len\"] = data[\"body_text\"].apply(lambda x: len(x)-x.count(\" \"))\n"
      ],
      "execution_count": 0,
      "outputs": []
    },
    {
      "cell_type": "markdown",
      "metadata": {
        "id": "fauhBF_CBKqN",
        "colab_type": "text"
      },
      "source": [
        "     \n",
        "density : bool, optional\n",
        "If True, the first element of the return tuple will be the counts normalized to form a probability density, i.e., the area (or integral) under the histogram will sum to 1. This is achieved by dividing the count by the number of observations times the bin width and not dividing by the total number of observations. If stacked is also True, the sum of the histograms is normalized to 1."
      ]
    },
    {
      "cell_type": "code",
      "metadata": {
        "id": "0h2-p6yy7leX",
        "colab_type": "code",
        "colab": {
          "base_uri": "https://localhost:8080/",
          "height": 265
        },
        "outputId": "77fdbab8-6268-44f6-ada2-bfaa5e9c4273"
      },
      "source": [
        "\n",
        "bins = np.linspace(0,200,40)\n",
        "plt.hist(data[data[\"label\"]=='spam']['body_len'], bins, alpha = 0.5, density = True, label = 'spam')\n",
        "plt.hist(data[data[\"label\"]=='ham']['body_len'], bins, alpha = 0.5, density = True, label = 'ham')\n",
        "plt.show()"
      ],
      "execution_count": 7,
      "outputs": [
        {
          "output_type": "display_data",
          "data": {
            "image/png": "[encoded data removed]",
            "text/plain": [
              "<Figure size 432x288 with 1 Axes>"
            ]
          },
          "metadata": {
            "tags": [],
            "needs_background": "light"
          }
        }
      ]
    },
    {
      "cell_type": "markdown",
      "metadata": {
        "id": "E4rbTwzj5ZUc",
        "colab_type": "text"
      },
      "source": [
        "### Getting the best feature for accurate predictions"
      ]
    },
    {
      "cell_type": "code",
      "metadata": {
        "id": "JUe3jo7i58O3",
        "colab_type": "code",
        "colab": {
          "base_uri": "https://localhost:8080/",
          "height": 265
        },
        "outputId": "4917f0a9-0a46-44fd-d6a2-ca211e2ede9a"
      },
      "source": [
        "#### creating a feature which contains the % of text that containd punctuations\n",
        "#### generally spam mails contains the large amount of punctuations \n",
        "\n",
        "def count_punct(text):\n",
        "  count = sum([1 for char in text if char in string.punctuation])\n",
        "  return round(count/(len(text)-text.count(\" \")), 3)*100\n",
        "  \n",
        "data[\"punct%\"] = data[\"body_text\"].apply(lambda x:count_punct(x))\n",
        "\n",
        "## plotting the feature\n",
        "bins = np.linspace(0,50,40)\n",
        "plt.hist(data[data[\"label\"]=='spam']['punct%'], bins, alpha = 0.5, density = True, label = 'spam')\n",
        "plt.hist(data[data[\"label\"]=='ham']['punct%'], bins, alpha = 0.5, density = True, label = 'ham')\n",
        "plt.show()"
      ],
      "execution_count": 8,
      "outputs": [
        {
          "output_type": "display_data",
          "data": {
            "image/png": "[encoded data removed]",
            "text/plain": [
              "<Figure size 432x288 with 1 Axes>"
            ]
          },
          "metadata": {
            "tags": [],
            "needs_background": "light"
          }
        }
      ]
    },
    {
      "cell_type": "code",
      "metadata": {
        "id": "7WsX5w0L6NTS",
        "colab_type": "code",
        "colab": {
          "base_uri": "https://localhost:8080/",
          "height": 281
        },
        "outputId": "03e5b7d5-4529-4a7c-fba5-c47fbb2a1857"
      },
      "source": [
        "#### Plotting the both feature body lenght and punctuation percentage\n",
        "\n",
        "plt.hist(data[\"body_len\"], bins)\n",
        "plt.title(\"Body length distribution\")\n",
        "plt.show()"
      ],
      "execution_count": 9,
      "outputs": [
        {
          "output_type": "display_data",
          "data": {
            "image/png": "[encoded data removed]",
            "text/plain": [
              "<Figure size 432x288 with 1 Axes>"
            ]
          },
          "metadata": {
            "tags": [],
            "needs_background": "light"
          }
        }
      ]
    },
    {
      "cell_type": "code",
      "metadata": {
        "id": "xa_TTWDuDQUY",
        "colab_type": "code",
        "colab": {
          "base_uri": "https://localhost:8080/",
          "height": 265
        },
        "outputId": "dab96a60-51e2-4b1b-9905-1ce2f7c99e19"
      },
      "source": [
        "bins = np.linspace(0,50,40)\n",
        "plt.hist(data[\"punct%\"], bins)\n",
        "#pyplot.title(\"Body length distribution\")\n",
        "plt.show()"
      ],
      "execution_count": 10,
      "outputs": [
        {
          "output_type": "display_data",
          "data": {
            "image/png": "[encoded data removed]",
            "text/plain": [
              "<Figure size 432x288 with 1 Axes>"
            ]
          },
          "metadata": {
            "tags": [],
            "needs_background": "light"
          }
        }
      ]
    },
    {
      "cell_type": "markdown",
      "metadata": {
        "id": "5zmv7lKbDWNx",
        "colab_type": "text"
      },
      "source": [
        "## Transformation\n",
        "\n",
        "#### Process that alters each data point in a certain column in a systematic way \n",
        "\n",
        "## Box-Cox power transformation\n",
        "\n",
        "### process\n",
        "1. determine what range of exponent to test\n",
        "2. Apply each transformaation to each value of your chossen value\n",
        "3. Use some criteria to determine which of the transformation yield the best distribution"
      ]
    },
    {
      "cell_type": "code",
      "metadata": {
        "id": "uboGNLwNEVJ5",
        "colab_type": "code",
        "colab": {
          "base_uri": "https://localhost:8080/",
          "height": 1000
        },
        "outputId": "a4d3550b-b13b-4de5-9409-2d20246d9bb7"
      },
      "source": [
        "## for better results we are positive value for transforming \n",
        "## into the exponential power\n",
        "for i in [1,2,3,4,5]:\n",
        "    plt.hist((data['punct%'])**(1/i), bins=40)\n",
        "    plt.title('Transformation: 1/{}'.format(str(i)))\n",
        "    plt.show()"
      ],
      "execution_count": 11,
      "outputs": [
        {
          "output_type": "display_data",
          "data": {
            "image/png": "[encoded data removed]",
            "text/plain": [
              "<Figure size 432x288 with 1 Axes>"
            ]
          },
          "metadata": {
            "tags": [],
            "needs_background": "light"
          }
        },
        {
          "output_type": "display_data",
          "data": {
            "image/png": "[encoded data removed]",
            "text/plain": [
              "<Figure size 432x288 with 1 Axes>"
            ]
          },
          "metadata": {
            "tags": [],
            "needs_background": "light"
          }
        },
        {
          "output_type": "display_data",
          "data": {
            "image/png": "[encoded data removed]",
            "text/plain": [
              "<Figure size 432x288 with 1 Axes>"
            ]
          },
          "metadata": {
            "tags": [],
            "needs_background": "light"
          }
        },
        {
          "output_type": "display_data",
          "data": {
            "image/png": "[encoded data removed]",
            "text/plain": [
              "<Figure size 432x288 with 1 Axes>"
            ]
          },
          "metadata": {
            "tags": [],
            "needs_background": "light"
          }
        },
        {
          "output_type": "display_data",
          "data": {
            "image/png": "[encoded data removed]",
            "text/plain": [
              "<Figure size 432x288 with 1 Axes>"
            ]
          },
          "metadata": {
            "tags": [],
            "needs_background": "light"
          }
        }
      ]
    },
    {
      "cell_type": "markdown",
      "metadata": {
        "id": "9gLAfFHNEYrW",
        "colab_type": "text"
      },
      "source": [
        "## Cleannin data\n",
        " As we define all the parameters Now we clean our body_text so that it can be vectorized"
      ]
    },
    {
      "cell_type": "code",
      "metadata": {
        "id": "1YDKNKr0EppH",
        "colab_type": "code",
        "colab": {}
      },
      "source": [
        "def clean_text(text):\n",
        "    text = \"\".join([word.lower() for word in text if word not in string.punctuation])\n",
        "    tokens = re.split('\\W+', text)\n",
        "    text = [ps.stem(word) for word in tokens if word not in stopwords]\n",
        "    return text"
      ],
      "execution_count": 0,
      "outputs": []
    },
    {
      "cell_type": "markdown",
      "metadata": {
        "id": "WGdG4t36E2SA",
        "colab_type": "text"
      },
      "source": [
        "## Train_test_Split\n",
        " Now for better prediction we first split our data then vectorize our data"
      ]
    },
    {
      "cell_type": "code",
      "metadata": {
        "id": "iwetifrpFJek",
        "colab_type": "code",
        "colab": {
          "base_uri": "https://localhost:8080/",
          "height": 112
        },
        "outputId": "8415b308-cf01-4cea-cc7e-73911e5944b9"
      },
      "source": [
        "data.corr()"
      ],
      "execution_count": 13,
      "outputs": [
        {
          "output_type": "execute_result",
          "data": {
            "text/html": [
              "<div>\n",
              "<style scoped>\n",
              "    .dataframe tbody tr th:only-of-type {\n",
              "        vertical-align: middle;\n",
              "    }\n",
              "\n",
              "    .dataframe tbody tr th {\n",
              "        vertical-align: top;\n",
              "    }\n",
              "\n",
              "    .dataframe thead th {\n",
              "        text-align: right;\n",
              "    }\n",
              "</style>\n",
              "<table border=\"1\" class=\"dataframe\">\n",
              "  <thead>\n",
              "    <tr style=\"text-align: right;\">\n",
              "      <th></th>\n",
              "      <th>body_len</th>\n",
              "      <th>punct%</th>\n",
              "    </tr>\n",
              "  </thead>\n",
              "  <tbody>\n",
              "    <tr>\n",
              "      <th>body_len</th>\n",
              "      <td>1.000000</td>\n",
              "      <td>-0.152412</td>\n",
              "    </tr>\n",
              "    <tr>\n",
              "      <th>punct%</th>\n",
              "      <td>-0.152412</td>\n",
              "      <td>1.000000</td>\n",
              "    </tr>\n",
              "  </tbody>\n",
              "</table>\n",
              "</div>"
            ],
            "text/plain": [
              "          body_len    punct%\n",
              "body_len  1.000000 -0.152412\n",
              "punct%   -0.152412  1.000000"
            ]
          },
          "metadata": {
            "tags": []
          },
          "execution_count": 13
        }
      ]
    },
    {
      "cell_type": "code",
      "metadata": {
        "id": "5fJG4HaiGwJj",
        "colab_type": "code",
        "colab": {
          "base_uri": "https://localhost:8080/",
          "height": 868
        },
        "outputId": "a9329f08-4f2a-4de9-c52a-e51f02bfa8df"
      },
      "source": [
        "corr_matrx = data.corr()\n",
        "fig, ax = plt.subplots(figsize = (15,15))\n",
        "ax = sns.heatmap(corr_matrx,\n",
        "                 annot = True,\n",
        "                 linewidths = 0.5,\n",
        "                 fmt = \".2f\",\n",
        "                 cmap = \"Blues\")"
      ],
      "execution_count": 14,
      "outputs": [
        {
          "output_type": "display_data",
          "data": {
            "image/png": "[encoded data removed]",
            "text/plain": [
              "<Figure size 1080x1080 with 2 Axes>"
            ]
          },
          "metadata": {
            "tags": [],
            "needs_background": "light"
          }
        }
      ]
    },
    {
      "cell_type": "code",
      "metadata": {
        "id": "IFHXRZ2rHRMP",
        "colab_type": "code",
        "colab": {}
      },
      "source": [
        "X = data.drop(\"label\", axis = 1)\n",
        "y = data[\"label\"]\n",
        "\n",
        "np.random.seed(42)\n",
        "X_train, X_test, y_train, y_test = train_test_split(X, y, test_size = 0.2)"
      ],
      "execution_count": 0,
      "outputs": []
    },
    {
      "cell_type": "markdown",
      "metadata": {
        "id": "2CP1Se_AH_wF",
        "colab_type": "text"
      },
      "source": [
        "## Vectorizing our data"
      ]
    },
    {
      "cell_type": "code",
      "metadata": {
        "id": "BmXoPBkhINog",
        "colab_type": "code",
        "colab": {}
      },
      "source": [
        "tfidf_vect = TfidfVectorizer(analyzer=clean_text)\n",
        "tfidf_vect_fit = tfidf_vect.fit(X_train['body_text'])\n",
        "\n",
        "## Here we vectorized our data into train and test seperately\n",
        "## Rather than vectorizing whole data set then spliting the \n",
        "## data it gives us the better accuracy to the model\n",
        "tfidf_train = tfidf_vect_fit.transform(X_train['body_text'])\n",
        "tfidf_test = tfidf_vect_fit.transform(X_test[\"body_text\"])\n",
        "\n",
        "X_features_train = pd.concat([X_train[[\"body_len\", \"punct%\"]].reset_index(drop = True),\n",
        "                       pd.DataFrame(tfidf_train.toarray())], axis=1)\n",
        "X_features_test = pd.concat([X_test[[\"body_len\", \"punct%\"]].reset_index(drop = True),\n",
        "                       pd.DataFrame(tfidf_test.toarray())], axis=1)\n",
        "\n"
      ],
      "execution_count": 0,
      "outputs": []
    },
    {
      "cell_type": "markdown",
      "metadata": {
        "id": "VDP7jA9fI4QN",
        "colab_type": "text"
      },
      "source": [
        "## Modelling"
      ]
    },
    {
      "cell_type": "markdown",
      "metadata": {
        "id": "W2g8C8LcKgJS",
        "colab_type": "text"
      },
      "source": [
        "#### putting all model in a dictionary simultenously"
      ]
    },
    {
      "cell_type": "code",
      "metadata": {
        "id": "uwitGPUAKmw7",
        "colab_type": "code",
        "colab": {
          "base_uri": "https://localhost:8080/",
          "height": 225
        },
        "outputId": "9cc853db-1eb5-4c12-dd0d-4e0c6239d648"
      },
      "source": [
        "models = {\n",
        "    \"RandomForest\":RandomForestClassifier(),\n",
        "    \"KNN\":KNeighborsClassifier(),\n",
        "    \"GradeintBoost\":GradientBoostingClassifier(),\n",
        "    \"LogisticRegressor\":LogisticRegression()\n",
        "}\n",
        "\n",
        "## Create a function to fit and score the model\n",
        "def fit_score(models, X_train,X_test,y_train, y_test):\n",
        "  np.random.seed(42)\n",
        "  model_score = {}\n",
        "  for name, model in models.items():\n",
        "    model.fit(X_train, y_train)\n",
        "    model_score[name] = model.score(X_test, y_test)\n",
        "\n",
        "  return model_score\n",
        "\n",
        "model_scores = fit_score(models = models,\n",
        "                         X_train = X_features_train,\n",
        "                         X_test =X_features_test,\n",
        "                         y_train = y_train,\n",
        "                         y_test = y_test\n",
        "                         )  \n",
        "\n",
        "model_scores"
      ],
      "execution_count": 17,
      "outputs": [
        {
          "output_type": "stream",
          "text": [
            "/usr/local/lib/python3.6/dist-packages/sklearn/linear_model/_logistic.py:940: ConvergenceWarning: lbfgs failed to converge (status=1):\n",
            "STOP: TOTAL NO. of ITERATIONS REACHED LIMIT.\n",
            "\n",
            "Increase the number of iterations (max_iter) or scale the data as shown in:\n",
            "    https://scikit-learn.org/stable/modules/preprocessing.html\n",
            "Please also refer to the documentation for alternative solver options:\n",
            "    https://scikit-learn.org/stable/modules/linear_model.html#logistic-regression\n",
            "  extra_warning_msg=_LOGISTIC_SOLVER_CONVERGENCE_MSG)\n"
          ],
          "name": "stderr"
        },
        {
          "output_type": "execute_result",
          "data": {
            "text/plain": [
              "{'GradeintBoost': 0.9721723518850988,\n",
              " 'KNN': 0.9156193895870736,\n",
              " 'LogisticRegressor': 0.9793536804308797,\n",
              " 'RandomForest': 0.9820466786355476}"
            ]
          },
          "metadata": {
            "tags": []
          },
          "execution_count": 17
        }
      ]
    },
    {
      "cell_type": "code",
      "metadata": {
        "id": "VP1GRIc3NJhV",
        "colab_type": "code",
        "colab": {
          "base_uri": "https://localhost:8080/",
          "height": 360
        },
        "outputId": "8d3c1e37-e990-4b4e-d325-060195ac5501"
      },
      "source": [
        "## model comparison\n",
        "mdoel_compare = pd.DataFrame(model_scores, index = [\"Accuracy\"])\n",
        "mdoel_compare.T.plot.bar()"
      ],
      "execution_count": 18,
      "outputs": [
        {
          "output_type": "execute_result",
          "data": {
            "text/plain": [
              "<matplotlib.axes._subplots.AxesSubplot at 0x7ffa93ee9208>"
            ]
          },
          "metadata": {
            "tags": []
          },
          "execution_count": 18
        },
        {
          "output_type": "display_data",
          "data": {
            "image/png": "[encoded data removed]",
            "text/plain": [
              "<Figure size 432x288 with 1 Axes>"
            ]
          },
          "metadata": {
            "tags": [],
            "needs_background": "light"
          }
        }
      ]
    },
    {
      "cell_type": "markdown",
      "metadata": {
        "id": "mpKC3hoKk5Rg",
        "colab_type": "text"
      },
      "source": [
        "## Hyperparameter tunning using GridSearchCV"
      ]
    },
    {
      "cell_type": "code",
      "metadata": {
        "id": "-RzB_EU6mpji",
        "colab_type": "code",
        "colab": {}
      },
      "source": [
        "## Create hyperparamter\n",
        "log_reg = {\n",
        "    \"C\":np.logspace(4,4,20),\n",
        "    \"solver\":['liblinear']\n",
        "}\n",
        "\n",
        "rf_grid = {'n_estimators': [10, 150, 300],\n",
        "            'max_depth':[30,60,90,None]}\n",
        "\n",
        "gb_grid = {\n",
        "    'n_estimators': [100,150],\n",
        "    'max_depth': [7,11,15],\n",
        "    'learning_rate':[0.1]\n",
        "}\n",
        "\n",
        "\n"
      ],
      "execution_count": 0,
      "outputs": []
    },
    {
      "cell_type": "code",
      "metadata": {
        "id": "G4iEibI7n4DL",
        "colab_type": "code",
        "colab": {
          "base_uri": "https://localhost:8080/",
          "height": 121
        },
        "outputId": "e60dd8a2-6f85-4cde-c08a-41038fd21d51"
      },
      "source": [
        "## Tuning the models\n",
        "\n",
        "np.random.seed(42)\n",
        "ls_reg = GridSearchCV(LogisticRegression(),\n",
        "                      param_grid = log_reg,\n",
        "                      cv=5,\n",
        "                      verbose = True)\n",
        "ls_model = ls_reg.fit(X_features_train, y_train)\n",
        "\n",
        "rf_reg = GridSearchCV(RandomForestClassifier(),\n",
        "                      param_grid = rf_grid,\n",
        "                      cv=5,\n",
        "                      verbose = True)\n",
        "\n",
        "rs_model = rf_reg.fit(X_features_train, y_train)\n",
        "\n",
        "\n",
        "gb_reg =GridSearchCV(GradientBoostingClassifier(),\n",
        "                     param_grid = gb_grid,\n",
        "                     cv=5,\n",
        "                     verbose = True)\n",
        "gs_model = gb_reg.fit(X_features_train, y_train)"
      ],
      "execution_count": 26,
      "outputs": [
        {
          "output_type": "stream",
          "text": [
            "Fitting 5 folds for each of 20 candidates, totalling 100 fits\n"
          ],
          "name": "stdout"
        },
        {
          "output_type": "stream",
          "text": [
            "[Parallel(n_jobs=1)]: Using backend SequentialBackend with 1 concurrent workers.\n",
            "[Parallel(n_jobs=1)]: Done 100 out of 100 | elapsed:   43.2s finished\n"
          ],
          "name": "stderr"
        },
        {
          "output_type": "stream",
          "text": [
            "Fitting 5 folds for each of 12 candidates, totalling 60 fits\n"
          ],
          "name": "stdout"
        },
        {
          "output_type": "stream",
          "text": [
            "[Parallel(n_jobs=1)]: Using backend SequentialBackend with 1 concurrent workers.\n",
            "[Parallel(n_jobs=1)]: Done  60 out of  60 | elapsed:  5.7min finished\n"
          ],
          "name": "stderr"
        }
      ]
    },
    {
      "cell_type": "code",
      "metadata": {
        "id": "G_HCg7K4_eb6",
        "colab_type": "code",
        "colab": {
          "base_uri": "https://localhost:8080/",
          "height": 69
        },
        "outputId": "7ad36843-1fae-4494-dcb0-7cc34cc9d3e3"
      },
      "source": [
        "rs_model.best_params_, ls_model.best_params_, gs_model.best_params_"
      ],
      "execution_count": 42,
      "outputs": [
        {
          "output_type": "execute_result",
          "data": {
            "text/plain": [
              "({'max_depth': None, 'n_estimators': 150},\n",
              " {'C': 10000.0, 'solver': 'liblinear'},\n",
              " {'learning_rate': 0.1, 'max_depth': 7, 'n_estimators': 150})"
            ]
          },
          "metadata": {
            "tags": []
          },
          "execution_count": 42
        }
      ]
    },
    {
      "cell_type": "code",
      "metadata": {
        "id": "bq0EzTtNq0OH",
        "colab_type": "code",
        "colab": {
          "base_uri": "https://localhost:8080/",
          "height": 69
        },
        "outputId": "4b436c33-616c-4f9c-d1bf-f8ce63eade17"
      },
      "source": [
        "## making prediction on the trained model\n",
        "y_preds_rs =  rs_model.predict(X_features_test)\n",
        "y_preds_ls =  ls_model.predict(X_features_test)\n",
        "y_preds_gs =  gs_model.predict(X_features_test)\n",
        "\n",
        "y_score_rs =  rs_model.score(X_features_test, y_test)\n",
        "y_score_ls =  ls_model.score(X_features_test, y_test)\n",
        "y_score_gs =  gs_model.score(X_features_test, y_test)\n",
        "\n",
        "print(y_score_rs)\n",
        "print(y_score_ls)\n",
        "print(y_score_gs)"
      ],
      "execution_count": 31,
      "outputs": [
        {
          "output_type": "stream",
          "text": [
            "0.9820466786355476\n",
            "0.9901256732495511\n",
            "0.981149012567325\n"
          ],
          "name": "stdout"
        }
      ]
    },
    {
      "cell_type": "code",
      "metadata": {
        "id": "1WSuL2-9_8LG",
        "colab_type": "code",
        "colab": {
          "base_uri": "https://localhost:8080/",
          "height": 206
        },
        "outputId": "a7469937-64cc-44a5-afdb-e5c606d88894"
      },
      "source": [
        "Predictions = pd.DataFrame(y_test)\n",
        "Predictions\n",
        "Predictions[\"RandomForest\"] = y_preds_rs\n",
        "Predictions[\"LogisticRegression\"] = y_preds_ls\n",
        "Predictions[\"GradientBoosting\"] = y_preds_gs\n",
        "Predictions.head()"
      ],
      "execution_count": 56,
      "outputs": [
        {
          "output_type": "execute_result",
          "data": {
            "text/html": [
              "<div>\n",
              "<style scoped>\n",
              "    .dataframe tbody tr th:only-of-type {\n",
              "        vertical-align: middle;\n",
              "    }\n",
              "\n",
              "    .dataframe tbody tr th {\n",
              "        vertical-align: top;\n",
              "    }\n",
              "\n",
              "    .dataframe thead th {\n",
              "        text-align: right;\n",
              "    }\n",
              "</style>\n",
              "<table border=\"1\" class=\"dataframe\">\n",
              "  <thead>\n",
              "    <tr style=\"text-align: right;\">\n",
              "      <th></th>\n",
              "      <th>label</th>\n",
              "      <th>RandomForest</th>\n",
              "      <th>LogisticRegression</th>\n",
              "      <th>GradientBoosting</th>\n",
              "    </tr>\n",
              "  </thead>\n",
              "  <tbody>\n",
              "    <tr>\n",
              "      <th>1168</th>\n",
              "      <td>ham</td>\n",
              "      <td>ham</td>\n",
              "      <td>ham</td>\n",
              "      <td>ham</td>\n",
              "    </tr>\n",
              "    <tr>\n",
              "      <th>765</th>\n",
              "      <td>ham</td>\n",
              "      <td>ham</td>\n",
              "      <td>ham</td>\n",
              "      <td>ham</td>\n",
              "    </tr>\n",
              "    <tr>\n",
              "      <th>465</th>\n",
              "      <td>ham</td>\n",
              "      <td>ham</td>\n",
              "      <td>ham</td>\n",
              "      <td>ham</td>\n",
              "    </tr>\n",
              "    <tr>\n",
              "      <th>1117</th>\n",
              "      <td>spam</td>\n",
              "      <td>spam</td>\n",
              "      <td>spam</td>\n",
              "      <td>spam</td>\n",
              "    </tr>\n",
              "    <tr>\n",
              "      <th>4930</th>\n",
              "      <td>ham</td>\n",
              "      <td>ham</td>\n",
              "      <td>ham</td>\n",
              "      <td>ham</td>\n",
              "    </tr>\n",
              "  </tbody>\n",
              "</table>\n",
              "</div>"
            ],
            "text/plain": [
              "     label RandomForest LogisticRegression GradientBoosting\n",
              "1168   ham          ham                ham              ham\n",
              "765    ham          ham                ham              ham\n",
              "465    ham          ham                ham              ham\n",
              "1117  spam         spam               spam             spam\n",
              "4930   ham          ham                ham              ham"
            ]
          },
          "metadata": {
            "tags": []
          },
          "execution_count": 56
        }
      ]
    },
    {
      "cell_type": "markdown",
      "metadata": {
        "id": "niNuub41CFQW",
        "colab_type": "text"
      },
      "source": [
        "## Classification Report"
      ]
    },
    {
      "cell_type": "code",
      "metadata": {
        "id": "OkuSMapKu1Kh",
        "colab_type": "code",
        "colab": {
          "base_uri": "https://localhost:8080/",
          "height": 486
        },
        "outputId": "97b092a9-fff7-4599-d72e-1ee4b575329b"
      },
      "source": [
        "## Classification report of the models\n",
        "print(classification_report(y_test, y_preds_rs))\n",
        "print(classification_report(y_test, y_preds_ls))\n",
        "print(classification_report(y_test, y_preds_gs))"
      ],
      "execution_count": 30,
      "outputs": [
        {
          "output_type": "stream",
          "text": [
            "              precision    recall  f1-score   support\n",
            "\n",
            "         ham       0.98      1.00      0.99       967\n",
            "        spam       1.00      0.86      0.93       147\n",
            "\n",
            "    accuracy                           0.98      1114\n",
            "   macro avg       0.99      0.93      0.96      1114\n",
            "weighted avg       0.98      0.98      0.98      1114\n",
            "\n",
            "              precision    recall  f1-score   support\n",
            "\n",
            "         ham       0.99      1.00      0.99       967\n",
            "        spam       0.97      0.95      0.96       147\n",
            "\n",
            "    accuracy                           0.99      1114\n",
            "   macro avg       0.98      0.97      0.98      1114\n",
            "weighted avg       0.99      0.99      0.99      1114\n",
            "\n",
            "              precision    recall  f1-score   support\n",
            "\n",
            "         ham       0.98      0.99      0.99       967\n",
            "        spam       0.96      0.90      0.93       147\n",
            "\n",
            "    accuracy                           0.98      1114\n",
            "   macro avg       0.97      0.95      0.96      1114\n",
            "weighted avg       0.98      0.98      0.98      1114\n",
            "\n"
          ],
          "name": "stdout"
        }
      ]
    },
    {
      "cell_type": "code",
      "metadata": {
        "id": "FsVm-Lau6d1h",
        "colab_type": "code",
        "colab": {
          "base_uri": "https://localhost:8080/",
          "height": 52
        },
        "outputId": "6f0674cb-d6e6-4ae9-cc50-c354aa460d28"
      },
      "source": [
        "print(confusion_matrix(y_test, y_preds_rs))"
      ],
      "execution_count": 32,
      "outputs": [
        {
          "output_type": "stream",
          "text": [
            "[[967   0]\n",
            " [ 20 127]]\n"
          ],
          "name": "stdout"
        }
      ]
    },
    {
      "cell_type": "markdown",
      "metadata": {
        "id": "JijyDTIPCKx0",
        "colab_type": "text"
      },
      "source": [
        "## Confusion Matrix"
      ]
    },
    {
      "cell_type": "code",
      "metadata": {
        "id": "5wuqzI-s9moc",
        "colab_type": "code",
        "colab": {
          "base_uri": "https://localhost:8080/",
          "height": 226
        },
        "outputId": "528333fd-1aa2-4f99-dd29-8741b6a1fd14"
      },
      "source": [
        "## Create a function to plot a confusion matrix\n",
        "def plot_conf(y_test, y_preds):\n",
        "  fig, ax = plt.subplots(figsize = (3,3))\n",
        "  ax = sns.heatmap(confusion_matrix(y_test, y_preds),\n",
        "                   annot = True,\n",
        "                   cbar = False)\n",
        "  plt.xlabel(\"True_label\")\n",
        "  plt.ylabel(\"Predicted label\")\n",
        "\n",
        "plot_conf(y_test, y_preds_gs)  "
      ],
      "execution_count": 33,
      "outputs": [
        {
          "output_type": "display_data",
          "data": {
            "image/png": "[encoded data removed]",
            "text/plain": [
              "<Figure size 216x216 with 1 Axes>"
            ]
          },
          "metadata": {
            "tags": [],
            "needs_background": "light"
          }
        }
      ]
    },
    {
      "cell_type": "code",
      "metadata": {
        "id": "D56jWmUH-Sfh",
        "colab_type": "code",
        "colab": {
          "base_uri": "https://localhost:8080/",
          "height": 226
        },
        "outputId": "9a80b7b2-031a-4800-ed54-4fa4ad7974c0"
      },
      "source": [
        "plot_conf(y_test, y_preds_ls)"
      ],
      "execution_count": 34,
      "outputs": [
        {
          "output_type": "display_data",
          "data": {
            "image/png": "[encoded data removed]",
            "text/plain": [
              "<Figure size 216x216 with 1 Axes>"
            ]
          },
          "metadata": {
            "tags": [],
            "needs_background": "light"
          }
        }
      ]
    },
    {
      "cell_type": "code",
      "metadata": {
        "id": "cWA4tnB7-Z4j",
        "colab_type": "code",
        "colab": {
          "base_uri": "https://localhost:8080/",
          "height": 226
        },
        "outputId": "0ea32f87-4c91-4bbe-eea5-70dee84d12de"
      },
      "source": [
        "plot_conf(y_test, y_preds_rs)"
      ],
      "execution_count": 35,
      "outputs": [
        {
          "output_type": "display_data",
          "data": {
            "image/png": "[encoded data removed]",
            "text/plain": [
              "<Figure size 216x216 with 1 Axes>"
            ]
          },
          "metadata": {
            "tags": [],
            "needs_background": "light"
          }
        }
      ]
    },
    {
      "cell_type": "markdown",
      "metadata": {
        "id": "6sT202RTCSK8",
        "colab_type": "text"
      },
      "source": [
        "## Plotting the ROC and AUC curve"
      ]
    },
    {
      "cell_type": "code",
      "metadata": {
        "id": "wzvIkHyW-gnU",
        "colab_type": "code",
        "colab": {
          "base_uri": "https://localhost:8080/",
          "height": 279
        },
        "outputId": "e2027a0e-cf74-4dff-ddf2-73f3dda02a56"
      },
      "source": [
        "## function for plotting roc curve\n",
        "\n",
        "def plot_roc(model, X_features_test, y_test):\n",
        "  plot_roc_curve(model, X_features_test, y_test)\n",
        "\n",
        "\n",
        "plot_roc(rs_model, X_features_test, y_test)\n"
      ],
      "execution_count": 36,
      "outputs": [
        {
          "output_type": "display_data",
          "data": {
            "image/png": "[encoded data removed]",
            "text/plain": [
              "<Figure size 432x288 with 1 Axes>"
            ]
          },
          "metadata": {
            "tags": [],
            "needs_background": "light"
          }
        }
      ]
    },
    {
      "cell_type": "code",
      "metadata": {
        "id": "uqN-tg0J_EZB",
        "colab_type": "code",
        "colab": {
          "base_uri": "https://localhost:8080/",
          "height": 279
        },
        "outputId": "cb2f3939-cad2-4990-8fd8-50931f5f5e00"
      },
      "source": [
        "plot_roc(ls_model, X_features_test, y_test)"
      ],
      "execution_count": 37,
      "outputs": [
        {
          "output_type": "display_data",
          "data": {
            "image/png": "[encoded data removed]",
            "text/plain": [
              "<Figure size 432x288 with 1 Axes>"
            ]
          },
          "metadata": {
            "tags": [],
            "needs_background": "light"
          }
        }
      ]
    },
    {
      "cell_type": "code",
      "metadata": {
        "id": "3aYLce1m_LVi",
        "colab_type": "code",
        "colab": {
          "base_uri": "https://localhost:8080/",
          "height": 279
        },
        "outputId": "f8ef8332-a36a-4ade-c49a-dae1142aa500"
      },
      "source": [
        "plot_roc(rs_model, X_features_test, y_test)"
      ],
      "execution_count": 39,
      "outputs": [
        {
          "output_type": "display_data",
          "data": {
            "image/png": "[encoded data removed]",
            "text/plain": [
              "<Figure size 432x288 with 1 Axes>"
            ]
          },
          "metadata": {
            "tags": [],
            "needs_background": "light"
          }
        }
      ]
    },
    {
      "cell_type": "code",
      "metadata": {
        "id": "u0W7LB_R_S4u",
        "colab_type": "code",
        "colab": {}
      },
      "source": [
        ""
      ],
      "execution_count": 0,
      "outputs": []
    }
  ]
}